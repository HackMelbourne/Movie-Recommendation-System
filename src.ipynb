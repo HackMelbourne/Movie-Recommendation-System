{
 "cells": [
  {
   "cell_type": "markdown",
   "id": "78f4a799-f736-4f50-a897-9c6f22aedbbc",
   "metadata": {},
   "source": [
    "# Movie Recommendations\n"
   ]
  },
  {
   "cell_type": "markdown",
   "id": "adfb8b77-b64a-407c-b8a7-76ff004f2e63",
   "metadata": {},
   "source": [
    "Load the necessary libraries"
   ]
  },
  {
   "cell_type": "code",
   "execution_count": 2,
   "id": "d92f6fec-9db6-4b1e-8a0d-24860e96fb94",
   "metadata": {},
   "outputs": [],
   "source": [
    "import pandas as pd"
   ]
  },
  {
   "cell_type": "markdown",
   "id": "c27ecb1e-86a4-4336-b063-17cb6426b049",
   "metadata": {},
   "source": [
    "## Preprocessing data\n",
    "Load the data"
   ]
  },
  {
   "cell_type": "code",
   "execution_count": null,
   "id": "273783aa-2500-4f89-8f0b-76da1179806c",
   "metadata": {},
   "outputs": [],
   "source": []
  }
 ],
 "metadata": {
  "kernelspec": {
   "display_name": "Python 3 (ipykernel)",
   "language": "python",
   "name": "python3"
  },
  "language_info": {
   "codemirror_mode": {
    "name": "ipython",
    "version": 3
   },
   "file_extension": ".py",
   "mimetype": "text/x-python",
   "name": "python",
   "nbconvert_exporter": "python",
   "pygments_lexer": "ipython3",
   "version": "3.8.12"
  }
 },
 "nbformat": 4,
 "nbformat_minor": 5
}
